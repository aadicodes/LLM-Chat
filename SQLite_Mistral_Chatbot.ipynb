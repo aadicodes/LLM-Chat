{
  "nbformat": 4,
  "nbformat_minor": 0,
  "metadata": {
    "colab": {
      "provenance": [],
      "gpuType": "T4",
      "authorship_tag": "ABX9TyPLsE2koFUDNX1WP5YUUss8",
      "include_colab_link": true
    },
    "kernelspec": {
      "name": "python3",
      "display_name": "Python 3"
    },
    "language_info": {
      "name": "python"
    },
    "accelerator": "GPU"
  },
  "cells": [
    {
      "cell_type": "markdown",
      "metadata": {
        "id": "view-in-github",
        "colab_type": "text"
      },
      "source": [
        "<a href=\"https://colab.research.google.com/github/aadicodes/LLM-Chat/blob/main/SQLite_Mistral_Chatbot.ipynb\" target=\"_parent\"><img src=\"https://colab.research.google.com/assets/colab-badge.svg\" alt=\"Open In Colab\"/></a>"
      ]
    },
    {
      "cell_type": "code",
      "execution_count": null,
      "metadata": {
        "id": "VHHJTDOcMRO9"
      },
      "outputs": [],
      "source": [
        "!pip install -q transformers sentence-transformers gradio datasets accelerate"
      ]
    },
    {
      "cell_type": "code",
      "source": [
        "from google.colab import files\n",
        "\n",
        "#enterprise_data.db\n",
        "import pandas as pd\n",
        "import sqlite3\n",
        "\n",
        "\n",
        "conn = sqlite3.connect(\"enterprise_data.db\")\n",
        "cursor = conn.cursor()\n",
        "\n",
        "cursor.execute(\"SELECT name FROM sqlite_master WHERE type='table';\")\n",
        "tables = cursor.fetchall()\n",
        "\n",
        "print(\"Tables in database:\", tables)\n",
        "\n",
        "df_new = pd.DataFrame([\n",
        "    {'branch_name': 'Miami Branch', 'revenue': 72000.00, 'quarter': 'Q2', 'year':2025},\n",
        "    {'branch_name': 'Dallas Branch', 'revenue': 88000.00, 'quarter': 'Q2', 'year':2025},\n",
        "    {'branch_name': 'Phoenix Branch', 'revenue': 188000.00, 'quarter': 'Q3', 'year':2025},\n",
        "    {'branch_name': 'Austin Branch', 'revenue': 128000.00, 'quarter': 'Q3', 'year':2025},\n",
        "    {'branch_name': 'Denver Branch', 'revenue': 126000.00, 'quarter': 'Q3', 'year':2025}\n",
        "])\n",
        "\n",
        "df_new.to_sql('branch_revenue', conn, if_exists='append', index=False)\n"
      ],
      "metadata": {
        "id": "L3ulyaWQNCJO"
      },
      "execution_count": null,
      "outputs": []
    },
    {
      "cell_type": "code",
      "source": [
        "\n",
        "from sentence_transformers import SentenceTransformer, util\n",
        "\n",
        "# Connect to uploaded SQLite file\n",
        "conn = sqlite3.connect(\"enterprise_data.db\")  # Replace with your file name\n",
        "cursor = conn.cursor()\n",
        "\n",
        "# Load table data\n",
        "df = pd.read_sql_query(\"SELECT * FROM branch_revenue\", conn)\n",
        "print(df)\n",
        "conn.close()\n",
        "\n",
        "# Embed rows\n",
        "embedder = SentenceTransformer(\"all-MiniLM-L6-v2\")\n",
        "corpus = df.astype(str).agg(\" \".join, axis=1).tolist()\n",
        "corpus_embeddings = embedder.encode(corpus, convert_to_tensor=True)\n"
      ],
      "metadata": {
        "id": "AphdhA9IOPv1"
      },
      "execution_count": null,
      "outputs": []
    },
    {
      "cell_type": "code",
      "source": [
        "from transformers import AutoTokenizer, AutoModelForCausalLM, pipeline\n",
        "\n",
        "model_id = \"TinyLlama/TinyLlama-1.1B-Chat-v1.0\"  # No token required\n",
        "tokenizer = AutoTokenizer.from_pretrained(model_id)\n",
        "model = AutoModelForCausalLM.from_pretrained(model_id)\n",
        "chatbot = pipeline(\"text-generation\", model=model, tokenizer=tokenizer)"
      ],
      "metadata": {
        "id": "6S1a7JLQOUSA"
      },
      "execution_count": null,
      "outputs": []
    },
    {
      "cell_type": "code",
      "source": [
        "def answer_question(user_query):\n",
        "    query_embedding = embedder.encode(user_query, convert_to_tensor=True)\n",
        "    hits = util.semantic_search(query_embedding, corpus_embeddings, top_k=3)[0]\n",
        "    context = \"\\n\".join([corpus[hit['corpus_id']] for hit in hits])\n",
        "\n",
        "    prompt = f\"\"\"You are a helpful assistant. Use the following context to answer the question.\n",
        "\n",
        "Context:\n",
        "{context}\n",
        "\n",
        "Question:\n",
        "{user_query}\n",
        "\n",
        "Answer:\"\"\"\n",
        "\n",
        "    response = chatbot(prompt, max_new_tokens=200, do_sample=True)[0]['generated_text']\n",
        "    return response.split(\"Answer:\")[-1].strip()"
      ],
      "metadata": {
        "id": "CrSOJk2qOXXo"
      },
      "execution_count": null,
      "outputs": []
    },
    {
      "cell_type": "code",
      "source": [
        "import gradio as gr\n",
        "\n",
        "gr.Interface(fn=answer_question, inputs=\"text\", outputs=\"text\",\n",
        "             title=\"📊 Chatbot using Mistral LLM\",\n",
        "             description=\"Ask questions about your enterprise data stored in SQLite.\").launch()\n"
      ],
      "metadata": {
        "id": "lWD_JfgtOhUJ"
      },
      "execution_count": null,
      "outputs": []
    }
  ]
}