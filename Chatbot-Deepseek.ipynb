{
  "nbformat": 4,
  "nbformat_minor": 0,
  "metadata": {
    "colab": {
      "provenance": [],
      "gpuType": "T4",
      "authorship_tag": "ABX9TyNeNycSMz+mP3JUq8ct+L44"
    },
    "kernelspec": {
      "name": "python3",
      "display_name": "Python 3"
    },
    "language_info": {
      "name": "python"
    },
    "accelerator": "GPU"
  },
  "cells": [
    {
      "cell_type": "code",
      "execution_count": null,
      "metadata": {
        "id": "qQdiB9Hpjncv"
      },
      "outputs": [],
      "source": [
        "# Install required libraries\n",
        "!pip install transformers accelerate streamlit --quiet\n"
      ]
    }
  ]
}